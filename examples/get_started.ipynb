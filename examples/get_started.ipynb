{
 "cells": [
  {
   "cell_type": "markdown",
   "id": "favorite-value",
   "metadata": {},
   "source": [
    "# Get Started With nGQL Jupyter Magic Extension"
   ]
  },
  {
   "cell_type": "markdown",
   "id": "british-cream",
   "metadata": {},
   "source": [
    "## How To Install nGQL in Jupyter or iPython\n",
    "First, install nGQL Magic with pip:\n",
    "```bash\n",
    "!pip install ipython-ngql\n",
    "```\n",
    "Second, load extension:\n",
    "```bash\n",
    "$load_ext ngql\n",
    "```"
   ]
  },
  {
   "cell_type": "code",
   "execution_count": 1,
   "metadata": {},
   "outputs": [
    {
     "name": "stdout",
     "output_type": "stream",
     "text": [
      "Collecting ipython-ngql\n",
      "  Downloading ipython_ngql-0.7.5-py3-none-any.whl (8.7 kB)\n",
      "Requirement already satisfied: nebula3-python>=3.4.0 in /home/ubuntu/ipython-ngql/venv/lib/python3.10/site-packages (from ipython-ngql) (3.4.0)\n",
      "Requirement already satisfied: Jinja2 in /home/ubuntu/ipython-ngql/venv/lib/python3.10/site-packages (from ipython-ngql) (3.1.2)\n",
      "Requirement already satisfied: pandas in /home/ubuntu/ipython-ngql/venv/lib/python3.10/site-packages (from ipython-ngql) (2.1.3)\n",
      "Requirement already satisfied: httplib2>=0.20.0 in /home/ubuntu/ipython-ngql/venv/lib/python3.10/site-packages (from nebula3-python>=3.4.0->ipython-ngql) (0.22.0)\n",
      "Requirement already satisfied: pytz>=2021.1 in /home/ubuntu/ipython-ngql/venv/lib/python3.10/site-packages (from nebula3-python>=3.4.0->ipython-ngql) (2023.3.post1)\n",
      "Requirement already satisfied: six>=1.16.0 in /home/ubuntu/ipython-ngql/venv/lib/python3.10/site-packages (from nebula3-python>=3.4.0->ipython-ngql) (1.16.0)\n",
      "Requirement already satisfied: future>=0.18.0 in /home/ubuntu/ipython-ngql/venv/lib/python3.10/site-packages (from nebula3-python>=3.4.0->ipython-ngql) (0.18.3)\n",
      "Requirement already satisfied: MarkupSafe>=2.0 in /home/ubuntu/ipython-ngql/venv/lib/python3.10/site-packages (from Jinja2->ipython-ngql) (2.1.3)\n",
      "Requirement already satisfied: numpy<2,>=1.22.4 in /home/ubuntu/ipython-ngql/venv/lib/python3.10/site-packages (from pandas->ipython-ngql) (1.26.2)\n",
      "Requirement already satisfied: tzdata>=2022.1 in /home/ubuntu/ipython-ngql/venv/lib/python3.10/site-packages (from pandas->ipython-ngql) (2023.3)\n",
      "Requirement already satisfied: python-dateutil>=2.8.2 in /home/ubuntu/ipython-ngql/venv/lib/python3.10/site-packages (from pandas->ipython-ngql) (2.8.2)\n",
      "Requirement already satisfied: pyparsing!=3.0.0,!=3.0.1,!=3.0.2,!=3.0.3,<4,>=2.4.2 in /home/ubuntu/ipython-ngql/venv/lib/python3.10/site-packages (from httplib2>=0.20.0->nebula3-python>=3.4.0->ipython-ngql) (3.1.1)\n",
      "Installing collected packages: ipython-ngql\n",
      "Successfully installed ipython-ngql-0.7.5\n"
     ]
    }
   ],
   "source": [
    "!pip install ipython-ngql"
   ]
  },
  {
   "cell_type": "code",
   "execution_count": 2,
   "id": "biological-summary",
   "metadata": {},
   "outputs": [],
   "source": [
    "%load_ext ngql"
   ]
  },
  {
   "cell_type": "code",
   "execution_count": 3,
   "metadata": {},
   "outputs": [
    {
     "name": "stdout",
     "output_type": "stream",
     "text": [
      "[ERROR] Connection is not ready\n"
     ]
    },
    {
     "data": {
      "text/plain": [
       "'Connection State: -1'"
      ]
     },
     "execution_count": 3,
     "metadata": {},
     "output_type": "execute_result"
    }
   ],
   "source": [
    "%ngql"
   ]
  },
  {
   "cell_type": "markdown",
   "id": "embedded-olive",
   "metadata": {},
   "source": [
    "## How to Use\n",
    "Connect to Nebula Graph with:\n",
    "\n",
    "```bash\n",
    "%ngql --address <ip> --port <port> --user <username> --password <password>\n",
    "```"
   ]
  },
  {
   "cell_type": "code",
   "execution_count": 11,
   "id": "nasty-angel",
   "metadata": {},
   "outputs": [
    {
     "name": "stdout",
     "output_type": "stream",
     "text": [
      "Connection Pool Created\n"
     ]
    },
    {
     "data": {
      "text/html": [
       "<div>\n",
       "<style scoped>\n",
       "    .dataframe tbody tr th:only-of-type {\n",
       "        vertical-align: middle;\n",
       "    }\n",
       "\n",
       "    .dataframe tbody tr th {\n",
       "        vertical-align: top;\n",
       "    }\n",
       "\n",
       "    .dataframe thead th {\n",
       "        text-align: right;\n",
       "    }\n",
       "</style>\n",
       "<table border=\"1\" class=\"dataframe\">\n",
       "  <thead>\n",
       "    <tr style=\"text-align: right;\">\n",
       "      <th></th>\n",
       "      <th>Name</th>\n",
       "    </tr>\n",
       "  </thead>\n",
       "  <tbody>\n",
       "    <tr>\n",
       "      <th>0</th>\n",
       "      <td>guardians</td>\n",
       "    </tr>\n",
       "  </tbody>\n",
       "</table>\n",
       "</div>"
      ],
      "text/plain": [
       "        Name\n",
       "0  guardians"
      ]
     },
     "execution_count": 11,
     "metadata": {},
     "output_type": "execute_result"
    }
   ],
   "source": [
    "# %ngql --address 192.168.8.128 --port 9669 --user root --password nebula\n",
    "%ngql --address 0.0.0.0 --port 9669 --user root --password nebula"
   ]
  },
  {
   "cell_type": "markdown",
   "id": "necessary-performance",
   "metadata": {},
   "source": [
    "Make a query after `Connection Pool Created` shown in the connection from last step:\n",
    "\n",
    "\n",
    "Option 1, it supports one line query as:\n",
    "```ngql\n",
    "%ngql <query_line>;\n",
    "```\n",
    "Option 2, it also supports multiple queries:\n",
    "\n",
    "```ngql\n",
    "%%ngql\n",
    "<line 0>;\n",
    "<line 1>;\n",
    "```\n",
    "\n",
    "> Note, we will support a 3rd option to enable runing lines from `.ngql` file soon."
   ]
  },
  {
   "cell_type": "code",
   "execution_count": 5,
   "metadata": {},
   "outputs": [
    {
     "data": {
      "text/html": [
       "<div>\n",
       "<style scoped>\n",
       "    .dataframe tbody tr th:only-of-type {\n",
       "        vertical-align: middle;\n",
       "    }\n",
       "\n",
       "    .dataframe tbody tr th {\n",
       "        vertical-align: top;\n",
       "    }\n",
       "\n",
       "    .dataframe thead th {\n",
       "        text-align: right;\n",
       "    }\n",
       "</style>\n",
       "<table border=\"1\" class=\"dataframe\">\n",
       "  <thead>\n",
       "    <tr style=\"text-align: right;\">\n",
       "      <th></th>\n",
       "    </tr>\n",
       "  </thead>\n",
       "  <tbody>\n",
       "  </tbody>\n",
       "</table>\n",
       "</div>"
      ],
      "text/plain": [
       "Empty DataFrame\n",
       "Columns: []\n",
       "Index: []"
      ]
     },
     "execution_count": 5,
     "metadata": {},
     "output_type": "execute_result"
    }
   ],
   "source": [
    "%ngql CREATE SPACE guardians(vid_type=FIXED_STRING(256), partition_num=1, replica_factor=1); "
   ]
  },
  {
   "cell_type": "code",
   "execution_count": 7,
   "metadata": {},
   "outputs": [],
   "source": [
    "# %ngql CREATE SPACE my_space_1;"
   ]
  },
  {
   "cell_type": "code",
   "execution_count": 8,
   "metadata": {},
   "outputs": [
    {
     "name": "stdout",
     "output_type": "stream",
     "text": [
      "[ERROR]:\n",
      " Query Failed:\n",
      " SemanticError: Space was not chosen.\n"
     ]
    },
    {
     "data": {
      "text/html": [
       "<div>\n",
       "<style scoped>\n",
       "    .dataframe tbody tr th:only-of-type {\n",
       "        vertical-align: middle;\n",
       "    }\n",
       "\n",
       "    .dataframe tbody tr th {\n",
       "        vertical-align: top;\n",
       "    }\n",
       "\n",
       "    .dataframe thead th {\n",
       "        text-align: right;\n",
       "    }\n",
       "</style>\n",
       "<table border=\"1\" class=\"dataframe\">\n",
       "  <thead>\n",
       "    <tr style=\"text-align: right;\">\n",
       "      <th></th>\n",
       "    </tr>\n",
       "  </thead>\n",
       "  <tbody>\n",
       "  </tbody>\n",
       "</table>\n",
       "</div>"
      ],
      "text/plain": [
       "Empty DataFrame\n",
       "Columns: []\n",
       "Index: []"
      ]
     },
     "execution_count": 8,
     "metadata": {},
     "output_type": "execute_result"
    }
   ],
   "source": [
    "%%ngql\n",
    "SHOW TAGS;\n",
    "SHOW HOSTS;"
   ]
  },
  {
   "cell_type": "code",
   "execution_count": 9,
   "id": "copyrighted-aberdeen",
   "metadata": {},
   "outputs": [
    {
     "name": "stdout",
     "output_type": "stream",
     "text": [
      "[ERROR]:\n",
      " Query Failed:\n",
      " SpaceNotFound: SpaceName `basketballplayer`\n",
      "[ERROR]:\n",
      " Query Failed:\n",
      " SemanticError: Space was not chosen.\n"
     ]
    },
    {
     "data": {
      "text/html": [
       "<div>\n",
       "<style scoped>\n",
       "    .dataframe tbody tr th:only-of-type {\n",
       "        vertical-align: middle;\n",
       "    }\n",
       "\n",
       "    .dataframe tbody tr th {\n",
       "        vertical-align: top;\n",
       "    }\n",
       "\n",
       "    .dataframe thead th {\n",
       "        text-align: right;\n",
       "    }\n",
       "</style>\n",
       "<table border=\"1\" class=\"dataframe\">\n",
       "  <thead>\n",
       "    <tr style=\"text-align: right;\">\n",
       "      <th></th>\n",
       "    </tr>\n",
       "  </thead>\n",
       "  <tbody>\n",
       "  </tbody>\n",
       "</table>\n",
       "</div>"
      ],
      "text/plain": [
       "Empty DataFrame\n",
       "Columns: []\n",
       "Index: []"
      ]
     },
     "execution_count": 9,
     "metadata": {},
     "output_type": "execute_result"
    }
   ],
   "source": [
    "%ngql USE basketballplayer;\n",
    "%ngql MATCH (v:player{name:\"Tim Duncan\"})-->(v2:player) RETURN v2.player.name AS Name;"
   ]
  },
  {
   "cell_type": "code",
   "execution_count": 7,
   "id": "northern-anatomy",
   "metadata": {},
   "outputs": [
    {
     "name": "stdout",
     "output_type": "stream",
     "text": [
      "[ERROR]:\n",
      " Query Failed:\n",
      " SemanticError: Space was not chosen.\n"
     ]
    },
    {
     "data": {
      "text/html": [
       "<div>\n",
       "<style scoped>\n",
       "    .dataframe tbody tr th:only-of-type {\n",
       "        vertical-align: middle;\n",
       "    }\n",
       "\n",
       "    .dataframe tbody tr th {\n",
       "        vertical-align: top;\n",
       "    }\n",
       "\n",
       "    .dataframe thead th {\n",
       "        text-align: right;\n",
       "    }\n",
       "</style>\n",
       "<table border=\"1\" class=\"dataframe\">\n",
       "  <thead>\n",
       "    <tr style=\"text-align: right;\">\n",
       "      <th></th>\n",
       "    </tr>\n",
       "  </thead>\n",
       "  <tbody>\n",
       "  </tbody>\n",
       "</table>\n",
       "</div>"
      ],
      "text/plain": [
       "Empty DataFrame\n",
       "Columns: []\n",
       "Index: []"
      ]
     },
     "execution_count": 7,
     "metadata": {},
     "output_type": "execute_result"
    }
   ],
   "source": [
    "%%ngql\n",
    "SHOW TAGS;\n",
    "SHOW HOSTS;"
   ]
  },
  {
   "cell_type": "markdown",
   "id": "apart-questionnaire",
   "metadata": {},
   "source": [
    "> It's quite easy, right?\n",
    "You could get help by `%ngql help` for some advanced usage:\n",
    "\n",
    "```ngql\n",
    "%ngql help\n",
    "```"
   ]
  },
  {
   "cell_type": "markdown",
   "id": "oriental-vault",
   "metadata": {},
   "source": [
    "### Using Variables in Query String\n",
    "\n",
    "We used Jinja2(https://jinja.palletsprojects.com/) as templating method for variables in query string:\n",
    "\n",
    "```python\n",
    "trainer = \"Sue\"\n",
    "```\n",
    "\n",
    "```ngql\n",
    "%%ngql\n",
    "GO FROM \"{{ trainer }}\" OVER owns_pokemon YIELD owns_pokemon._dst as pokemon_id | GO FROM $-.pokemon_id OVER owns_pokemon REVERSELY YIELD owns_pokemon._dst AS Trainer_Name;\n",
    "```"
   ]
  },
  {
   "cell_type": "code",
   "execution_count": 5,
   "id": "disciplinary-sustainability",
   "metadata": {},
   "outputs": [],
   "source": [
    "vid = \"player100\""
   ]
  },
  {
   "cell_type": "code",
   "execution_count": 6,
   "id": "bizarre-absorption",
   "metadata": {},
   "outputs": [
    {
     "data": {
      "text/html": [
       "<div>\n",
       "<style scoped>\n",
       "    .dataframe tbody tr th:only-of-type {\n",
       "        vertical-align: middle;\n",
       "    }\n",
       "\n",
       "    .dataframe tbody tr th {\n",
       "        vertical-align: top;\n",
       "    }\n",
       "\n",
       "    .dataframe thead th {\n",
       "        text-align: right;\n",
       "    }\n",
       "</style>\n",
       "<table border=\"1\" class=\"dataframe\">\n",
       "  <thead>\n",
       "    <tr style=\"text-align: right;\">\n",
       "      <th></th>\n",
       "      <th>FriendOf</th>\n",
       "      <th>Team</th>\n",
       "    </tr>\n",
       "  </thead>\n",
       "  <tbody>\n",
       "    <tr>\n",
       "      <th>0</th>\n",
       "      <td>LaMarcus Aldridge</td>\n",
       "      <td>Trail Blazers</td>\n",
       "    </tr>\n",
       "    <tr>\n",
       "      <th>1</th>\n",
       "      <td>LaMarcus Aldridge</td>\n",
       "      <td>Spurs</td>\n",
       "    </tr>\n",
       "    <tr>\n",
       "      <th>2</th>\n",
       "      <td>Marco Belinelli</td>\n",
       "      <td>Warriors</td>\n",
       "    </tr>\n",
       "  </tbody>\n",
       "</table>\n",
       "</div>"
      ],
      "text/plain": [
       "            FriendOf           Team\n",
       "0  LaMarcus Aldridge  Trail Blazers\n",
       "1  LaMarcus Aldridge          Spurs\n",
       "2    Marco Belinelli       Warriors"
      ]
     },
     "execution_count": 6,
     "metadata": {},
     "output_type": "execute_result"
    }
   ],
   "source": [
    "%%ngql\n",
    "MATCH (v)<-[e:follow]- (v2)-[e2:serve]->(v3)\n",
    "  WHERE id(v) == \"{{ vid }}\"\n",
    "RETURN v2.player.name AS FriendOf, v3.team.name AS Team LIMIT 3;"
   ]
  },
  {
   "cell_type": "markdown",
   "id": "motivated-pantyhose",
   "metadata": {},
   "source": [
    "### Using Raw thrift data type as result\n",
    "By default the result `ngql_result_style` is `pandas`, this enabled us to have table view renderred by Jupyter Notebook.\n",
    "\n",
    "While, if you would like to get raw results from `neutron2-python` itself, just configure it as below on the fly:\n",
    "\n",
    "```\n",
    "%config IPythonNGQL.ngql_result_style=\"raw\"\n",
    "```\n",
    "\n",
    "And after querying, the result will be stored in `_`, plesae then refer it to a new variable for further ad-hoc tweaking on it like:\n",
    "```\n",
    "$ngql <query>;\n",
    "\n",
    "result = _\n",
    "\n",
    "dir(result)\n",
    "```"
   ]
  },
  {
   "cell_type": "code",
   "execution_count": 7,
   "id": "designed-civilian",
   "metadata": {},
   "outputs": [],
   "source": [
    "%config IPythonNGQL.ngql_result_style=\"raw\""
   ]
  },
  {
   "cell_type": "code",
   "execution_count": 8,
   "id": "quiet-armor",
   "metadata": {},
   "outputs": [
    {
     "data": {
      "text/plain": [
       "ResultSet(keys: ['dst(EDGE)'], values: [\"player101\"],[\"player125\"],[\"player100\"],[\"player102\"],[\"player125\"])"
      ]
     },
     "execution_count": 8,
     "metadata": {},
     "output_type": "execute_result"
    }
   ],
   "source": [
    "%%ngql USE basketballplayer;\n",
    "GO 2 STEPS FROM \"player102\" OVER follow YIELD dst(edge);"
   ]
  },
  {
   "cell_type": "code",
   "execution_count": 9,
   "id": "rising-strip",
   "metadata": {},
   "outputs": [],
   "source": [
    "r = _"
   ]
  },
  {
   "cell_type": "code",
   "execution_count": 10,
   "id": "attractive-steel",
   "metadata": {},
   "outputs": [
    {
     "data": {
      "text/plain": [
       "'player101'"
      ]
     },
     "execution_count": 10,
     "metadata": {},
     "output_type": "execute_result"
    }
   ],
   "source": [
    "r.column_values(\"dst(EDGE)\")[0].cast()"
   ]
  },
  {
   "cell_type": "markdown",
   "id": "located-freeze",
   "metadata": {},
   "source": [
    "> Change back to `pandas` `ngql_result_style`"
   ]
  },
  {
   "cell_type": "code",
   "execution_count": 11,
   "id": "characteristic-preliminary",
   "metadata": {},
   "outputs": [],
   "source": [
    "%config IPythonNGQL.ngql_result_style=\"pandas\""
   ]
  },
  {
   "cell_type": "code",
   "execution_count": 12,
   "id": "commercial-orchestra",
   "metadata": {},
   "outputs": [
    {
     "data": {
      "text/html": [
       "<div>\n",
       "<style scoped>\n",
       "    .dataframe tbody tr th:only-of-type {\n",
       "        vertical-align: middle;\n",
       "    }\n",
       "\n",
       "    .dataframe tbody tr th {\n",
       "        vertical-align: top;\n",
       "    }\n",
       "\n",
       "    .dataframe thead th {\n",
       "        text-align: right;\n",
       "    }\n",
       "</style>\n",
       "<table border=\"1\" class=\"dataframe\">\n",
       "  <thead>\n",
       "    <tr style=\"text-align: right;\">\n",
       "      <th></th>\n",
       "      <th>team_name</th>\n",
       "      <th>start_year</th>\n",
       "      <th>player_name</th>\n",
       "    </tr>\n",
       "  </thead>\n",
       "  <tbody>\n",
       "    <tr>\n",
       "      <th>0</th>\n",
       "      <td>Spurs</td>\n",
       "      <td>1997</td>\n",
       "      <td>Tim Duncan</td>\n",
       "    </tr>\n",
       "    <tr>\n",
       "      <th>1</th>\n",
       "      <td>Trail Blazers</td>\n",
       "      <td>2006</td>\n",
       "      <td>LaMarcus Aldridge</td>\n",
       "    </tr>\n",
       "    <tr>\n",
       "      <th>2</th>\n",
       "      <td>Spurs</td>\n",
       "      <td>2015</td>\n",
       "      <td>LaMarcus Aldridge</td>\n",
       "    </tr>\n",
       "  </tbody>\n",
       "</table>\n",
       "</div>"
      ],
      "text/plain": [
       "       team_name  start_year        player_name\n",
       "0          Spurs        1997         Tim Duncan\n",
       "1  Trail Blazers        2006  LaMarcus Aldridge\n",
       "2          Spurs        2015  LaMarcus Aldridge"
      ]
     },
     "execution_count": 12,
     "metadata": {},
     "output_type": "execute_result"
    }
   ],
   "source": [
    "%%ngql\n",
    "GO FROM \"player100\", \"player102\" OVER serve \\\n",
    "  WHERE properties(edge).start_year > 1995 \\\n",
    "YIELD DISTINCT properties($$).name AS team_name, properties(edge).start_year AS start_year, properties($^).name AS player_name;"
   ]
  },
  {
   "cell_type": "markdown",
   "id": "0f04c49d",
   "metadata": {},
   "source": [
    "# Draw nGQL queries"
   ]
  },
  {
   "cell_type": "markdown",
   "id": "519ea8a1",
   "metadata": {},
   "source": [
    "> This depends on pyvis"
   ]
  },
  {
   "cell_type": "code",
   "execution_count": null,
   "id": "c911efa2",
   "metadata": {},
   "outputs": [],
   "source": [
    "%pip install pyvis"
   ]
  },
  {
   "cell_type": "code",
   "execution_count": 15,
   "id": "423e852e",
   "metadata": {},
   "outputs": [
    {
     "data": {
      "text/html": [
       "<div>\n",
       "<style scoped>\n",
       "    .dataframe tbody tr th:only-of-type {\n",
       "        vertical-align: middle;\n",
       "    }\n",
       "\n",
       "    .dataframe tbody tr th {\n",
       "        vertical-align: top;\n",
       "    }\n",
       "\n",
       "    .dataframe thead th {\n",
       "        text-align: right;\n",
       "    }\n",
       "</style>\n",
       "<table border=\"1\" class=\"dataframe\">\n",
       "  <thead>\n",
       "    <tr style=\"text-align: right;\">\n",
       "      <th></th>\n",
       "      <th>p</th>\n",
       "    </tr>\n",
       "  </thead>\n",
       "  <tbody>\n",
       "    <tr>\n",
       "      <th>0</th>\n",
       "      <td>(\"player127\" :player{age: 42, name: \"Vince Car...</td>\n",
       "    </tr>\n",
       "    <tr>\n",
       "      <th>1</th>\n",
       "      <td>(\"player127\" :player{age: 42, name: \"Vince Car...</td>\n",
       "    </tr>\n",
       "    <tr>\n",
       "      <th>2</th>\n",
       "      <td>(\"player127\" :player{age: 42, name: \"Vince Car...</td>\n",
       "    </tr>\n",
       "    <tr>\n",
       "      <th>3</th>\n",
       "      <td>(\"player127\" :player{age: 42, name: \"Vince Car...</td>\n",
       "    </tr>\n",
       "    <tr>\n",
       "      <th>4</th>\n",
       "      <td>(\"player127\" :player{age: 42, name: \"Vince Car...</td>\n",
       "    </tr>\n",
       "  </tbody>\n",
       "</table>\n",
       "</div>"
      ],
      "text/plain": [
       "                                                   p\n",
       "0  (\"player127\" :player{age: 42, name: \"Vince Car...\n",
       "1  (\"player127\" :player{age: 42, name: \"Vince Car...\n",
       "2  (\"player127\" :player{age: 42, name: \"Vince Car...\n",
       "3  (\"player127\" :player{age: 42, name: \"Vince Car...\n",
       "4  (\"player127\" :player{age: 42, name: \"Vince Car..."
      ]
     },
     "execution_count": 15,
     "metadata": {},
     "output_type": "execute_result"
    }
   ],
   "source": [
    "%ngql match p=(:player)-[]->() return p LIMIT 5"
   ]
  },
  {
   "cell_type": "code",
   "execution_count": 16,
   "id": "69171089",
   "metadata": {},
   "outputs": [
    {
     "name": "stdout",
     "output_type": "stream",
     "text": [
      "nebulagraph_draw.html\n"
     ]
    },
    {
     "data": {
      "text/html": [
       "\n",
       "        <iframe\n",
       "            width=\"100%\"\n",
       "            height=\"500px\"\n",
       "            src=\"nebulagraph_draw_match.html\"\n",
       "            frameborder=\"0\"\n",
       "            allowfullscreen\n",
       "            \n",
       "        ></iframe>\n",
       "        "
      ],
      "text/plain": [
       "<IPython.lib.display.IFrame at 0x11c174f10>"
      ]
     },
     "execution_count": 16,
     "metadata": {},
     "output_type": "execute_result"
    }
   ],
   "source": [
    "%ng_draw"
   ]
  },
  {
   "cell_type": "code",
   "execution_count": 22,
   "id": "84ac453e",
   "metadata": {},
   "outputs": [
    {
     "data": {
      "text/html": [
       "<div>\n",
       "<style scoped>\n",
       "    .dataframe tbody tr th:only-of-type {\n",
       "        vertical-align: middle;\n",
       "    }\n",
       "\n",
       "    .dataframe tbody tr th {\n",
       "        vertical-align: top;\n",
       "    }\n",
       "\n",
       "    .dataframe thead th {\n",
       "        text-align: right;\n",
       "    }\n",
       "</style>\n",
       "<table border=\"1\" class=\"dataframe\">\n",
       "  <thead>\n",
       "    <tr style=\"text-align: right;\">\n",
       "      <th></th>\n",
       "      <th>nodes</th>\n",
       "      <th>relationships</th>\n",
       "    </tr>\n",
       "  </thead>\n",
       "  <tbody>\n",
       "    <tr>\n",
       "      <th>0</th>\n",
       "      <td>[(\"player101\" :player{})]</td>\n",
       "      <td>[(\"player101\")-[:serve@0{}]-&gt;(\"team204\"), (\"pl...</td>\n",
       "    </tr>\n",
       "    <tr>\n",
       "      <th>1</th>\n",
       "      <td>[(\"team215\" :team{}), (\"player113\" :player{}),...</td>\n",
       "      <td>[(\"player111\")-[:serve@0{}]-&gt;(\"team215\"), (\"pl...</td>\n",
       "    </tr>\n",
       "    <tr>\n",
       "      <th>2</th>\n",
       "      <td>[(\"player146\" :player{}), (\"team206\" :team{}),...</td>\n",
       "      <td>[(\"player146\")-[:serve@0{}]-&gt;(\"team222\"), (\"pl...</td>\n",
       "    </tr>\n",
       "  </tbody>\n",
       "</table>\n",
       "</div>"
      ],
      "text/plain": [
       "                                               nodes  \\\n",
       "0                          [(\"player101\" :player{})]   \n",
       "1  [(\"team215\" :team{}), (\"player113\" :player{}),...   \n",
       "2  [(\"player146\" :player{}), (\"team206\" :team{}),...   \n",
       "\n",
       "                                       relationships  \n",
       "0  [(\"player101\")-[:serve@0{}]->(\"team204\"), (\"pl...  \n",
       "1  [(\"player111\")-[:serve@0{}]->(\"team215\"), (\"pl...  \n",
       "2  [(\"player146\")-[:serve@0{}]->(\"team222\"), (\"pl...  "
      ]
     },
     "execution_count": 22,
     "metadata": {},
     "output_type": "execute_result"
    }
   ],
   "source": [
    "%ngql GET SUBGRAPH 2 STEPS FROM \"player101\" YIELD VERTICES AS nodes, EDGES AS relationships;"
   ]
  },
  {
   "cell_type": "code",
   "execution_count": 23,
   "id": "8d406b2d",
   "metadata": {},
   "outputs": [
    {
     "name": "stdout",
     "output_type": "stream",
     "text": [
      "nebulagraph_draw.html\n"
     ]
    },
    {
     "data": {
      "text/html": [
       "\n",
       "        <iframe\n",
       "            width=\"100%\"\n",
       "            height=\"500px\"\n",
       "            src=\"nebulagraph_draw.html\"\n",
       "            frameborder=\"0\"\n",
       "            allowfullscreen\n",
       "            \n",
       "        ></iframe>\n",
       "        "
      ],
      "text/plain": [
       "<IPython.lib.display.IFrame at 0x11c770e50>"
      ]
     },
     "execution_count": 23,
     "metadata": {},
     "output_type": "execute_result"
    }
   ],
   "source": [
    "%ng_draw"
   ]
  },
  {
   "cell_type": "markdown",
   "id": "forbidden-carter",
   "metadata": {},
   "source": [
    "## Only one takeaway: `% ngql help`!\n",
    "All you have to remember is to use `$ngql help` to have all hints :-)"
   ]
  },
  {
   "cell_type": "code",
   "execution_count": 19,
   "id": "5a67dfdf",
   "metadata": {},
   "outputs": [
    {
     "name": "stdout",
     "output_type": "stream",
     "text": [
      "\n",
      "\n",
      "        Supported Configurations:\n",
      "        ------------------------\n",
      "        \n",
      "        > How to config ngql_result_style in \"raw\", \"pandas\"\n",
      "        %config IPythonNGQL.ngql_result_style=\"raw\"\n",
      "        %config IPythonNGQL.ngql_result_style=\"pandas\"\n",
      "\n",
      "        > How to config ngql_verbose in True, False\n",
      "        %config IPythonNGQL.ngql_verbose=True\n",
      "\n",
      "        > How to config max_connection_pool_size\n",
      "        %config IPythonNGQL.max_connection_pool_size=10\n",
      "\n",
      "        Quick Start:\n",
      "        -----------\n",
      "\n",
      "        > Connect to Neubla Graph\n",
      "        %ngql --address 127.0.0.1 --port 9669 --user user --password password\n",
      "\n",
      "        > Use Space\n",
      "        %ngql USE nba\n",
      "\n",
      "        > Query\n",
      "        %ngql SHOW TAGS;\n",
      "\n",
      "        > Multile Queries\n",
      "        %%ngql\n",
      "        SHOW TAGS;\n",
      "        SHOW HOSTS;\n",
      "\n",
      "        Reload ngql Magic\n",
      "        %reload_ext ngql\n",
      "\n",
      "        > Variables in query, we are using Jinja2 here\n",
      "        name = \"nba\"\n",
      "        %ngql USE \"{{ name }}\"\n",
      "\n",
      "        > Query and draw the graph\n",
      "\n",
      "        %ngql GET SUBGRAPH 2 STEPS FROM \"player101\" YIELD VERTICES AS nodes, EDGES AS relationships;\n",
      "\n",
      "        %ng_draw\n",
      "\n",
      "\n",
      "        \n"
     ]
    }
   ],
   "source": [
    "%ngql help"
   ]
  },
  {
   "cell_type": "code",
   "execution_count": null,
   "id": "878f97a7",
   "metadata": {},
   "outputs": [],
   "source": []
  }
 ],
 "metadata": {
  "kernelspec": {
   "display_name": "Python 3 (ipykernel)",
   "language": "python",
   "name": "python3"
  },
  "language_info": {
   "codemirror_mode": {
    "name": "ipython",
    "version": 3
   },
   "file_extension": ".py",
   "mimetype": "text/x-python",
   "name": "python",
   "nbconvert_exporter": "python",
   "pygments_lexer": "ipython3",
   "version": "3.10.12"
  }
 },
 "nbformat": 4,
 "nbformat_minor": 5
}
